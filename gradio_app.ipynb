{
 "cells": [
  {
   "cell_type": "code",
   "execution_count": 1,
   "metadata": {},
   "outputs": [
    {
     "name": "stdout",
     "output_type": "stream",
     "text": [
      "[NbConvertApp] Converting notebook search.ipynb to script\n",
      "[NbConvertApp] Writing 3164 bytes to search.py\n",
      "Query: Earth Observation for Kenya\n",
      "Document 1:\n",
      "PID: ['P154784']\n",
      "Title: Kenya - Climate Smart Agriculture Project : Environmental Assessment (Vol. 2) : Environmental and Social Impact Assessment Report for the Desilting and Expansion of Kabarbesi Water Pan Sub-Project Located in Emining Ward-Mogotio Sub-County, Baringo County\n",
      "Link: http://documents.worldbank.org/curated/en/841071615445783266/Environmental-and-Social-Impact-Assessment-Report-for-the-Desilting-and-Expansion-of-Kabarbesi-Water-Pan-Sub-project-Located-in-Emining-Ward-Mogotio-Sub-County-Baringo-County\n",
      "Relevant snippet: of the Climate Smart Agriculture Project for Kenya is to\n",
      "Abstract: The development objective of the Climate Smart Agriculture Project for Kenya is to increase agricultural productivity and build resilience to climate change risks in the targeted smallholder farming and pastoral communities in Kenya, and in the event of an eligible crisis or emergency, to provide immediate and effective response. Suggested measures included sensitization of the community on livestock disease control and prevention and provision of extension, intensify disease and pest surveillance; rehabilitate through reinstatement and tree planting all sites that are being used for construction activities such as camps, materials site (borrow pits and quarries) sites for storage materials and any paths, tracks that may be established during the construction phase and the water management committee should take charge of ensuring sustainability of this; dust from excavations and earth moving vehicles as well as materials delivery; emissions such as smoke, hydrocarbons and nitrogenous gases among others from machinery exhausts; the stockpiles of earth generated during construction works should be suppressed by spraying water or water-based mixtures. Spraying should also be carried out on unpaved road accesses regularly; all machinery and equipment should be maintained in good working order to ensure minimum emissions including carbon monoxide, oxides of Nitrogen and Sulphur, as well as suspended particulate matter; and drivers of construction vehicles and delivery trucks should be cautioned to drive slowly near the site to avoid creating dusty conditions. The drivers of construction vehicles and delivery trucks must be supervised so that they do not leave vehicles idling and limit their speeds so that dust levels are lowered.\n",
      "Similarity score: 0.4763\n",
      "\n",
      "Document 2:\n",
      "PID: ['P154784']\n",
      "Title: Kenya - Climate Smart Agriculture Project : Environmental Assessment (Vol. 7) : Environmental and Social Impact Assessment for Sertonje Borehole Sub-project, Mugurin Sub Location, Simotwe Location, Kisanana Ward, Mogotio Sub County, Baringo County\n",
      "Link: http://documents.worldbank.org/curated/en/436571617785340432/Environmental-and-Social-Impact-Assessment-for-Sertonje-Borehole-Sub-project-Mugurin-Sub-Location-Simotwe-Location-Kisanana-Ward-Mogotio-Sub-County-Baringo-County\n",
      "Relevant snippet: of the Climate Smart Agriculture Project for Kenya is to\n",
      "Abstract: The development objective of the Climate Smart Agriculture Project for Kenya is to increase agricultural productivity and build resilience to climate change risks in the targeted smallholder farming and pastoral communities in Kenya, and in the event of an eligible crisis or emergency, to provide immediate and effective response. Suggested measures included sensitization of the community on livestock disease control and prevention and provision of extension, intensify disease and pest surveillance; rehabilitate through reinstatement and tree planting all sites that are being used for construction activities such as camps, materials site (borrow pits and quarries) sites for storage materials and any paths, tracks that may be established during the construction phase and the water management committee should take charge of ensuring sustainability of this; dust from excavations and earth moving vehicles as well as materials delivery; emissions such as smoke, hydrocarbons and nitrogenous gases among others from machinery exhausts; the stockpiles of earth generated during construction works should be suppressed by spraying water or water-based mixtures. Spraying should also be carried out on unpaved road accesses regularly; all machinery and equipment should be maintained in good working order to ensure minimum emissions including carbon monoxide, oxides of Nitrogen and Sulphur, as well as suspended particulate matter; and drivers of construction vehicles and delivery trucks should be cautioned to drive slowly near the site to avoid creating dusty conditions. The drivers of construction vehicles and delivery trucks must be supervised so that they do not leave vehicles idling and limit their speeds so that dust levels are lowered.\n",
      "Similarity score: 0.4731\n",
      "\n",
      "Document 3:\n",
      "PID: ['P154784']\n",
      "Title: Kenya - Climate Smart Agriculture Project : Environmental Assessment (Vol. 8) : Environmental and Social Impact Assessment for Raichiri Waterpan Desilting Project on LR. No. Nyandarua and Leshau Block 3, Nyandarua County\n",
      "Link: http://documents.worldbank.org/curated/en/628571621838457163/Environmental-and-Social-Impact-Assessment-for-Raichiri-Waterpan-Desilting-Project-on-LR-No-Nyandarua-and-Leshau-Block-3-Nyandarua-County\n",
      "Relevant snippet: of the Climate Smart Agriculture Project for Kenya is to\n",
      "Abstract: The development objective of the Climate Smart Agriculture Project for Kenya is to increase agricultural productivity and build resilience to climate change risks in the targeted smallholder farming and pastoral communities in Kenya, and in the event of an eligible crisis or emergency, to provide immediate and effective response. Suggested measures included sensitization of the community on livestock disease control and prevention and provision of extension, intensify disease and pest surveillance; rehabilitate through reinstatement and tree planting all sites that are being used for construction activities such as camps, materials site (borrow pits and quarries) sites for storage materials and any paths, tracks that may be established during the construction phase and the water management committee should take charge of ensuring sustainability of this; dust from excavations and earth moving vehicles as well as materials delivery; emissions such as smoke, hydrocarbons and nitrogenous gases among others from machinery exhausts; the stockpiles of earth generated during construction works should be suppressed by spraying water or water-based mixtures. Spraying should also be carried out on unpaved road accesses regularly; all machinery and equipment should be maintained in good working order to ensure minimum emissions including carbon monoxide, oxides of Nitrogen and Sulphur, as well as suspended particulate matter; and drivers of construction vehicles and delivery trucks should be cautioned to drive slowly near the site to avoid creating dusty conditions. The drivers of construction vehicles and delivery trucks must be supervised so that they do not leave vehicles idling and limit their speeds so that dust levels are lowered.\n",
      "Similarity score: 0.4591\n",
      "\n"
     ]
    },
    {
     "name": "stderr",
     "output_type": "stream",
     "text": [
      "/Users/brunosan/opt/miniconda3/lib/python3.9/site-packages/gradio/inputs.py:27: UserWarning: Usage of gradio.inputs is deprecated, and will not be supported in the future, please import your component from gradio.components\n",
      "  warnings.warn(\n",
      "/Users/brunosan/opt/miniconda3/lib/python3.9/site-packages/gradio/deprecation.py:40: UserWarning: `optional` parameter is deprecated, and it has no effect\n",
      "  warnings.warn(value)\n",
      "/Users/brunosan/opt/miniconda3/lib/python3.9/site-packages/gradio/deprecation.py:40: UserWarning: `numeric` parameter is deprecated, and it has no effect\n",
      "  warnings.warn(value)\n",
      "/Users/brunosan/opt/miniconda3/lib/python3.9/site-packages/gradio/blocks.py:491: UserWarning: Theme should be a class loaded from gradio.themes\n",
      "  warnings.warn(\"Theme should be a class loaded from gradio.themes\")\n",
      "/Users/brunosan/opt/miniconda3/lib/python3.9/site-packages/gradio/deprecation.py:40: UserWarning: `layout` parameter is deprecated, and it has no effect\n",
      "  warnings.warn(value)\n"
     ]
    },
    {
     "name": "stdout",
     "output_type": "stream",
     "text": [
      "Running on local URL:  http://127.0.0.1:7860\n",
      "huggingface/tokenizers: The current process just got forked, after parallelism has already been used. Disabling parallelism to avoid deadlocks...\n",
      "To disable this warning, you can either:\n",
      "\t- Avoid using `tokenizers` before the fork if possible\n",
      "\t- Explicitly set the environment variable TOKENIZERS_PARALLELISM=(true | false)\n",
      "Running on public URL: https://249b1f58aec0c3fb44.gradio.live\n",
      "\n",
      "This share link expires in 72 hours. For free permanent hosting and GPU upgrades (NEW!), check out Spaces: https://huggingface.co/spaces\n"
     ]
    },
    {
     "data": {
      "text/html": [
       "<div><iframe src=\"https://249b1f58aec0c3fb44.gradio.live\" width=\"100%\" height=\"500\" allow=\"autoplay; camera; microphone; clipboard-read; clipboard-write;\" frameborder=\"0\" allowfullscreen></iframe></div>"
      ],
      "text/plain": [
       "<IPython.core.display.HTML object>"
      ]
     },
     "metadata": {},
     "output_type": "display_data"
    },
    {
     "data": {
      "text/plain": []
     },
     "execution_count": 1,
     "metadata": {},
     "output_type": "execute_result"
    }
   ],
   "source": [
    "import gradio as gr\n",
    "import numpy as np\n",
    "\n",
    "#import the search function form the search.py file\n",
    "from search import search_documents, find_most_relevant_snippet, TfidfVectorizer, SentenceTransformer\n",
    "\n",
    "model = SentenceTransformer('paraphrase-distilroberta-base-v1')\n",
    "documents = np.load(\"documents_with_embeddings.npy\", allow_pickle=True)\n",
    "\n",
    "# Function to wrap the search functionality and return results as a list of dictionaries\n",
    "def search_interface(query):\n",
    "    relevant_docs = search_documents(query, documents, model)\n",
    "    vectorizer = TfidfVectorizer()\n",
    "\n",
    "    html_results = \"\"\n",
    "    for i, (doc, score) in enumerate(relevant_docs):\n",
    "        most_relevant_snippet, _ = find_most_relevant_snippet(query, doc['full_text'], vectorizer)\n",
    "        \n",
    "        html_results += f\"\"\"\n",
    "        <div style=\"border: 1px solid #ccc; border-radius: 5px; padding: 1em; margin-bottom: 1em;\">\n",
    "            <h4>Document {i + 1}</h4>\n",
    "            <p><b>PID:</b> {doc[\"ids\"]}</p>\n",
    "            <p><b>Title:</b> {doc[\"title\"]}</p>\n",
    "            <p><b>Link:</b> <a href=\"{doc[\"url\"]}\" target=\"_blank\">{doc[\"url\"]}</a></p>\n",
    "            <p><b>Relevant snippet:</b> {most_relevant_snippet}</p>\n",
    "            <p><b>Abstract:</b> {doc[\"abstract\"][:300]}</p>\n",
    "            <p><b>Similarity score:</b> {score:.4f}</p>\n",
    "        </div>\n",
    "        \"\"\"\n",
    "\n",
    "    return html_results\n",
    "\n",
    "# Define Gradio input and output components\n",
    "query_input = gr.inputs.Textbox(label=\"Enter your search query:\")\n",
    "output = gr.outputs.HTML(label=\"Search Results\")\n",
    "\n",
    "# Create the Gradio interface\n",
    "iface = gr.Interface(\n",
    "    fn=search_interface,\n",
    "    inputs=query_input,\n",
    "    outputs=output,\n",
    "    title=\"Document Search\",\n",
    "    description=\"Enter a search query to find relevant documents.\",\n",
    "    theme=\"huggingface\",\n",
    "    layout=\"vertical\",\n",
    ")\n",
    "\n",
    "# Launch the Gradio app\n",
    "iface.launch(share=True)\n"
   ]
  },
  {
   "cell_type": "code",
   "execution_count": null,
   "metadata": {},
   "outputs": [],
   "source": []
  }
 ],
 "metadata": {
  "kernelspec": {
   "display_name": "base",
   "language": "python",
   "name": "python3"
  },
  "language_info": {
   "codemirror_mode": {
    "name": "ipython",
    "version": 3
   },
   "file_extension": ".py",
   "mimetype": "text/x-python",
   "name": "python",
   "nbconvert_exporter": "python",
   "pygments_lexer": "ipython3",
   "version": "3.9.15"
  },
  "orig_nbformat": 4
 },
 "nbformat": 4,
 "nbformat_minor": 2
}
