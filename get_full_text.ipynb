{
 "cells": [
  {
   "cell_type": "code",
   "execution_count": 2,
   "metadata": {},
   "outputs": [],
   "source": [
    "import json\n",
    "import os\n",
    "import requests\n",
    "import re\n",
    "from pathlib import Path\n",
    "\n",
    "text_folder = Path(\"data/text_files\")\n",
    "\n",
    "\n",
    "def clean_text(text):\n",
    "    out = text.replace('\\n', ' ').strip()\n",
    "    out = re.sub(r'\\.(\\s*\\.+)+', '.', out) # remove multiple dots\n",
    "    out = re.sub(r'\\bPage\\s+\\d+\\s+of\\s+\\d+\\b', '', out) # remove page numbers\n",
    "    out = out.replace(\"'\", \"\").replace('\"', \"\").replace('\"', \"\").replace('[', \"\").replace(']', \"\")\n",
    "    out = \" \".join(out.split())\n",
    "    return out\n",
    "\n",
    "def retrieve_full_text(document):\n",
    "    # Define the local file path\n",
    "    #print(document)\n",
    "    filename = \"-\".join(document[\"ids\"])\n",
    "    local_file_path = os.path.join(text_folder, f\"{filename}.txt\")\n",
    "    \n",
    "    # Check if the local file exists\n",
    "    if os.path.isfile(local_file_path):\n",
    "        with open(local_file_path, \"r\") as file:\n",
    "            document[\"full_text\"] = file.read()\n",
    "    else:\n",
    "        text_url = document[\"txturl\"]\n",
    "        response = requests.get(text_url)\n",
    "        \n",
    "        if response.status_code == 200:\n",
    "            document[\"full_text\"] = clean_text(response.text)\n",
    "            \n",
    "            # Save the full_text to the local file\n",
    "            with open(local_file_path, \"w\") as file:\n",
    "                file.write(document[\"full_text\"])\n",
    "        else:\n",
    "            print(f\"Failed to download the text from the URL: {text_url}\")\n",
    "    return\n",
    "\n"
   ]
  },
  {
   "cell_type": "code",
   "execution_count": 3,
   "metadata": {},
   "outputs": [
    {
     "name": "stdout",
     "output_type": "stream",
     "text": [
      "Processed 649 projects out of 649\r"
     ]
    }
   ],
   "source": [
    "if __name__ == \"__main__\":\n",
    "    # Create a folder to store text files\n",
    "    os.makedirs(text_folder, exist_ok=True)\n",
    "\n",
    "    # Load the projects\n",
    "    metadata_projects_file = Path(\"data/digital_agriculture_projects.json\")\n",
    "\n",
    "    with open(metadata_projects_file, \"r\") as f:\n",
    "        projects = json.load(f)\n",
    "\n",
    "    i=0\n",
    "    for project in projects:\n",
    "        retrieve_full_text(project)\n",
    "        i+=1\n",
    "        print(f\"Processed {i} projects out of {len(projects)}\", end=\"\\r\")"
   ]
  }
 ],
 "metadata": {
  "kernelspec": {
   "display_name": "s2",
   "language": "python",
   "name": "python3"
  },
  "language_info": {
   "codemirror_mode": {
    "name": "ipython",
    "version": 3
   },
   "file_extension": ".py",
   "mimetype": "text/x-python",
   "name": "python",
   "nbconvert_exporter": "python",
   "pygments_lexer": "ipython3",
   "version": "3.11.0"
  },
  "orig_nbformat": 4
 },
 "nbformat": 4,
 "nbformat_minor": 2
}
