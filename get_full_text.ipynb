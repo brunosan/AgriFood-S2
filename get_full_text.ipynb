{
 "cells": [
  {
   "cell_type": "code",
   "execution_count": null,
   "metadata": {},
   "outputs": [],
   "source": [
    "import json\n",
    "import os\n",
    "import requests\n",
    "\n",
    "\n",
    "def clean_text(text):\n",
    "    out = text.replace('\\n', ' ').strip()\n",
    "    out = text.replace(\"'\", \"\").replace('\"', \"\").replace('\"', \"\").replace('[', \"\").replace(']', \"\")\n",
    "    out = \" \".join(out.split())\n",
    "    return out\n",
    "\n",
    "def retrieve_full_text(document):\n",
    "    # Define the local file path\n",
    "    #print(document)\n",
    "    filename = \"-\".join(document[\"ids\"])\n",
    "    local_file_path = os.path.join(text_folder, f\"{filename}.txt\")\n",
    "    \n",
    "    # Check if the local file exists\n",
    "    if os.path.isfile(local_file_path):\n",
    "        with open(local_file_path, \"r\") as file:\n",
    "            document[\"full_text\"] = file.read()\n",
    "    else:\n",
    "        text_url = document[\"txturl\"]\n",
    "        response = requests.get(text_url)\n",
    "        \n",
    "        if response.status_code == 200:\n",
    "            document[\"full_text\"] = clean_text(response.text)\n",
    "            \n",
    "            # Save the full_text to the local file\n",
    "            with open(local_file_path, \"w\") as file:\n",
    "                file.write(document[\"full_text\"])\n",
    "        else:\n",
    "            print(f\"Failed to download the text from the URL: {text_url}\")\n",
    "    return\n",
    "\n",
    "\n",
    "# Create a folder to store text files\n",
    "text_folder = \"text_files\"\n",
    "os.makedirs(text_folder, exist_ok=True)\n",
    "\n",
    "# Load the projects\n",
    "with open(\"digital_agriculture_projects.json\", \"r\") as f:\n",
    "    projects = json.load(f)\n",
    "\n",
    "for project in projects:\n",
    "    retrieve_full_text(project)"
   ]
  }
 ],
 "metadata": {
  "language_info": {
   "name": "python"
  },
  "orig_nbformat": 4
 },
 "nbformat": 4,
 "nbformat_minor": 2
}
