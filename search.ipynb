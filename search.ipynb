{
 "cells": [
  {
   "cell_type": "code",
   "execution_count": 5,
   "metadata": {},
   "outputs": [],
   "source": [
    "import psycopg2\n",
    "import json\n",
    "import numpy as np\n",
    "from annoy import AnnoyIndex\n",
    "from sentence_transformers import SentenceTransformer\n",
    "\n",
    "number_of_results = 5\n",
    "\n",
    "# Database configuration\n",
    "db_config = {\n",
    "    'dbname': 'wb_s2_embeddings',\n",
    "    'user': 's2',\n",
    "    'password': 'wb@s2',\n",
    "    'host': 'localhost',\n",
    "    'port': 5432\n",
    "}\n",
    "\n",
    "model = SentenceTransformer('sentence-transformers/paraphrase-mpnet-base-v2')\n",
    "\n",
    "# Load the projects\n",
    "with open(\"digital_agriculture_projects.json\", \"r\") as f:\n",
    "    projects = json.load(f)\n",
    "\n",
    "# Function to perform the search\n",
    "def search(query, model, db_config):\n",
    "    # Encode the query\n",
    "    query_embedding = model.encode([query])[0]\n",
    "    query_embedding = [float(value) for value in query_embedding]\n",
    "\n",
    "    \n",
    "    # Connect to the database\n",
    "    with psycopg2.connect(**db_config) as conn:\n",
    "        c = conn.cursor()\n",
    "\n",
    "        # Search for the top projects by cosine similarity\n",
    "        c.execute(\"\"\"\n",
    "            SELECT project_id, chunk, embedding <-> %s::VECTOR AS distance\n",
    "            FROM embeddings\n",
    "            ORDER BY distance DESC\n",
    "            LIMIT %s;\n",
    "        \"\"\", (list(query_embedding), number_of_results))\n",
    "        \n",
    "        results = c.fetchall()\n",
    "    \n",
    "    return results\n",
    "\n",
    "# Initialize the model\n",
    "model = SentenceTransformer('sentence-transformers/paraphrase-mpnet-base-v2')\n",
    "\n",
    "# Define the database configuration\n",
    "db_config = {\n",
    "    'dbname': 'wb_s2_embeddings',\n",
    "    'user': 's2',\n",
    "    'password': 'wb@s2',\n",
    "    'host': 'localhost',\n",
    "    'port': 5432\n",
    "}\n",
    "\n"
   ]
  },
  {
   "cell_type": "code",
   "execution_count": 6,
   "metadata": {},
   "outputs": [
    {
     "name": "stdout",
     "output_type": "stream",
     "text": [
      "huggingface/tokenizers: The current process just got forked, after parallelism has already been used. Disabling parallelism to avoid deadlocks...\n",
      "To disable this warning, you can either:\n",
      "\t- Avoid using `tokenizers` before the fork if possible\n",
      "\t- Explicitly set the environment variable TOKENIZERS_PARALLELISM=(true | false)\n",
      "[NbConvertApp] Converting notebook search.ipynb to script\n",
      "[NbConvertApp] Writing 1643 bytes to search.py\n"
     ]
    }
   ],
   "source": [
    "#convert this notebook to a python script\n",
    "!jupyter nbconvert --to script search.ipynb"
   ]
  },
  {
   "cell_type": "code",
   "execution_count": 7,
   "metadata": {},
   "outputs": [
    {
     "name": "stdout",
     "output_type": "stream",
     "text": [
      "Project ID: P151072\n",
      "Project title: India - National Agriculture Higher Education Project : indigenous peoples plan : Indigenous peoples policy framework\n",
      "Project abstract: The objective of the National Agriculture Higher Education Project for India is: ‘to support participating Agricultural Universities and ICAR in providing more relevant and higher quality education to agriculture university students.’ ICAR has prepared this Equity Action Plan (EAP) or Indigenous People’s Policy Framework (IPPF) which addresses issues of gender equality and social inclusion with special attention to the needs of the Scheduled Tribe and the Scheduled Caste students and faculty members fulfilling the requirements of OP 4.10. This EAP/IPPF has been prepared using mostly qualitative research methodologies, including an online survey with the primary stakeholder - students and faculties from various social backgrounds, including ST and SC groups. This will be discussed and finalized with intensive stakeholder interviews and focus groups discussions with male and female students and faculties from various social backgrounds, including ST and SC groups, and poor and disadvantaged communities. Mitigation measures include: improving the learning efficiency, skill-sets of the students, especially those from socially and economically vulnerable groups including ST and SC, (ii) supporting faculty to improve their knowledge levels, pedagogical skills, and sensitivity to gender equality and social inclusion issues in agriculture educational institutions, (iii) encouraging institutions of excellence to organize annual technology innovation forums to enable students from various colleges share experiences and innovations; (iv) promoting mentorship amongst students and teachers (to aid needy students and younger faculty members); and (v) supporting research scholars as a part of Institutional Development Plans.\n",
      "Relevant snippet: Educational Sciences\n",
      "Distance: 3.606742977073237\n",
      "\n",
      "\n",
      "Project ID: P154784\n",
      "Project title: Kenya - Climate Smart Agriculture Project : Environmental Assessment (Vol. 7) : Environmental and Social Impact Assessment for Sertonje Borehole Sub-project, Mugurin Sub Location, Simotwe Location, Kisanana Ward, Mogotio Sub County, Baringo County\n",
      "Project abstract: The development objective of the Climate Smart Agriculture Project for Kenya is to increase agricultural productivity and build resilience to climate change risks in the targeted smallholder farming and pastoral communities in Kenya, and in the event of an eligible crisis or emergency, to provide immediate and effective response. Suggested measures included sensitization of the community on livestock disease control and prevention and provision of extension, intensify disease and pest surveillance; rehabilitate through reinstatement and tree planting all sites that are being used for construction activities such as camps, materials site (borrow pits and quarries) sites for storage materials and any paths, tracks that may be established during the construction phase and the water management committee should take charge of ensuring sustainability of this; dust from excavations and earth moving vehicles as well as materials delivery; emissions such as smoke, hydrocarbons and nitrogenous gases among others from machinery exhausts; the stockpiles of earth generated during construction works should be suppressed by spraying water or water-based mixtures. Spraying should also be carried out on unpaved road accesses regularly; all machinery and equipment should be maintained in good working order to ensure minimum emissions including carbon monoxide, oxides of Nitrogen and Sulphur, as well as suspended particulate matter; and drivers of construction vehicles and delivery trucks should be cautioned to drive slowly near the site to avoid creating dusty conditions. The drivers of construction vehicles and delivery trucks must be supervised so that they do not leave vehicles idling and limit their speeds so that dust levels are lowered.\n",
      "Relevant snippet: The measurement were executed in an expanding Schlumberger array with electrode spreads AB/2 = 250 m. 151 Field Data AB/ MN/2 Resistivity(ρ) 1.60 2 0.50 90.16 2.00 0.50 82.64 2.50 0.50 71.22 3.20 0.50 58.69 4.00 0.50 50.43 5.00 0.50 45.27 6.30 0.50 41.46 8.00 0.50 39.42 10.00 0.50 39.35 13.00 0.50 40.35 16.00 0.50 45.72 20.00 0.50 57.88 25.00 0.50 61.01 32.00 0.50 77.69 32.00 10.0 69.06 40.00 0 77.10 50.00 10.0 85.66 63.00 0 83.61 80.00 10.0 91.27 100.00 0 113.90 10.0 130.00 82.69 0 145.00 93.82 10.0 160.00 0 86.51 180.00 10.0 76.34 200.00 0 65.20 225.00 10.0 98.62 250.00 0 97.11 10.0 5.3 Interpretation and analysis. VES graph 0 10.0 0 10.0 0 10.0 0 10.0 0 10.0 0 Table 1 hydrogeological interpretation of VES 152 Depth (m) Resistivity Interpretation Remarks (Ohm.) 0 – 1.3 92.6 Loosely compacted and dry Moist due to run-off poorly sorted reddish- brown top soil. 1.3– 10.6 29.0 Loosely compacted and Moist wet poorly sorted reddish- brown top soil. 10.6 – 34 235.8 Phonolites Dry 34 – 144 49.6 Fractured phonolite with Moist with wet fractures tuffs 144 – 292.0 Phonolite with some Dry, wet from 170m fractures 6 CONCLUSIONS AND RECOMMENDATIONS Sertonje area is situated in a zone with medium groundwater potential. The investigated plot is underlain by volcanics.\n",
      "Distance: 3.4994519435420015\n",
      "\n",
      "\n",
      "Project ID: P154784\n",
      "Project title: Kenya - Climate Smart Agriculture Project : Environmental Assessment (Vol. 7) : Environmental and Social Impact Assessment for Sertonje Borehole Sub-project, Mugurin Sub Location, Simotwe Location, Kisanana Ward, Mogotio Sub County, Baringo County\n",
      "Project abstract: The development objective of the Climate Smart Agriculture Project for Kenya is to increase agricultural productivity and build resilience to climate change risks in the targeted smallholder farming and pastoral communities in Kenya, and in the event of an eligible crisis or emergency, to provide immediate and effective response. Suggested measures included sensitization of the community on livestock disease control and prevention and provision of extension, intensify disease and pest surveillance; rehabilitate through reinstatement and tree planting all sites that are being used for construction activities such as camps, materials site (borrow pits and quarries) sites for storage materials and any paths, tracks that may be established during the construction phase and the water management committee should take charge of ensuring sustainability of this; dust from excavations and earth moving vehicles as well as materials delivery; emissions such as smoke, hydrocarbons and nitrogenous gases among others from machinery exhausts; the stockpiles of earth generated during construction works should be suppressed by spraying water or water-based mixtures. Spraying should also be carried out on unpaved road accesses regularly; all machinery and equipment should be maintained in good working order to ensure minimum emissions including carbon monoxide, oxides of Nitrogen and Sulphur, as well as suspended particulate matter; and drivers of construction vehicles and delivery trucks should be cautioned to drive slowly near the site to avoid creating dusty conditions. The drivers of construction vehicles and delivery trucks must be supervised so that they do not leave vehicles idling and limit their speeds so that dust levels are lowered.\n",
      "Relevant snippet: The measurement were executed in an expanding Schlumberger array with electrode spreads AB/2 = 250 m. 151 Field Data AB/ MN/2 Resistivity(ρ) 1.60 2 0.50 90.16 2.00 0.50 82.64 2.50 0.50 71.22 3.20 0.50 58.69 4.00 0.50 50.43 5.00 0.50 45.27 6.30 0.50 41.46 8.00 0.50 39.42 10.00 0.50 39.35 13.00 0.50 40.35 16.00 0.50 45.72 20.00 0.50 57.88 25.00 0.50 61.01 32.00 0.50 77.69 32.00 10.0 69.06 40.00 0 77.10 50.00 10.0 85.66 63.00 0 83.61 80.00 10.0 91.27 100.00 0 113.90 10.0 130.00 82.69 0 145.00 93.82 10.0 160.00 0 86.51 180.00 10.0 76.34 200.00 0 65.20 225.00 10.0 98.62 250.00 0 97.11 10.0 5.3 Interpretation and analysis. VES graph 0 10.0 0 10.0 0 10.0 0 10.0 0 10.0 0 Table 1 hydrogeological interpretation of VES 152 Depth (m) Resistivity Interpretation Remarks (Ohm.) 0 – 1.3 92.6 Loosely compacted and dry Moist due to run-off poorly sorted reddish- brown top soil. 1.3– 10.6 29.0 Loosely compacted and Moist wet poorly sorted reddish- brown top soil. 10.6 – 34 235.8 Phonolites Dry 34 – 144 49.6 Fractured phonolite with Moist with wet fractures tuffs 144 – 292.0 Phonolite with some Dry, wet from 170m fractures 6 CONCLUSIONS AND RECOMMENDATIONS Sertonje area is situated in a zone with medium groundwater potential. The investigated plot is underlain by volcanics.\n",
      "Distance: 3.4991919331298065\n",
      "\n",
      "\n",
      "Project ID: P154784\n",
      "Project title: Kenya - Climate Smart Agriculture Project : Environmental Assessment (Vol. 7) : Environmental and Social Impact Assessment for Sertonje Borehole Sub-project, Mugurin Sub Location, Simotwe Location, Kisanana Ward, Mogotio Sub County, Baringo County\n",
      "Project abstract: The development objective of the Climate Smart Agriculture Project for Kenya is to increase agricultural productivity and build resilience to climate change risks in the targeted smallholder farming and pastoral communities in Kenya, and in the event of an eligible crisis or emergency, to provide immediate and effective response. Suggested measures included sensitization of the community on livestock disease control and prevention and provision of extension, intensify disease and pest surveillance; rehabilitate through reinstatement and tree planting all sites that are being used for construction activities such as camps, materials site (borrow pits and quarries) sites for storage materials and any paths, tracks that may be established during the construction phase and the water management committee should take charge of ensuring sustainability of this; dust from excavations and earth moving vehicles as well as materials delivery; emissions such as smoke, hydrocarbons and nitrogenous gases among others from machinery exhausts; the stockpiles of earth generated during construction works should be suppressed by spraying water or water-based mixtures. Spraying should also be carried out on unpaved road accesses regularly; all machinery and equipment should be maintained in good working order to ensure minimum emissions including carbon monoxide, oxides of Nitrogen and Sulphur, as well as suspended particulate matter; and drivers of construction vehicles and delivery trucks should be cautioned to drive slowly near the site to avoid creating dusty conditions. The drivers of construction vehicles and delivery trucks must be supervised so that they do not leave vehicles idling and limit their speeds so that dust levels are lowered.\n",
      "Relevant snippet: The measurement were executed in an expanding Schlumberger array with electrode spreads AB/2 = 250 m. 151 Field Data AB/ MN/2 Resistivity(ρ) 1.60 2 0.50 90.16 2.00 0.50 82.64 2.50 0.50 71.22 3.20 0.50 58.69 4.00 0.50 50.43 5.00 0.50 45.27 6.30 0.50 41.46 8.00 0.50 39.42 10.00 0.50 39.35 13.00 0.50 40.35 16.00 0.50 45.72 20.00 0.50 57.88 25.00 0.50 61.01 32.00 0.50 77.69 32.00 10.0 69.06 40.00 0 77.10 50.00 10.0 85.66 63.00 0 83.61 80.00 10.0 91.27 100.00 0 113.90 10.0 130.00 82.69 0 145.00 93.82 10.0 160.00 0 86.51 180.00 10.0 76.34 200.00 0 65.20 225.00 10.0 98.62 250.00 0 97.11 10.0 5.3 Interpretation and analysis. VES graph 0 10.0 0 10.0 0 10.0 0 10.0 0 10.0 0 Table 1 hydrogeological interpretation of VES 152 Depth (m) Resistivity Interpretation Remarks (Ohm.) 0 – 1.3 92.6 Loosely compacted and dry Moist due to run-off poorly sorted reddish- brown top soil. 1.3– 10.6 29.0 Loosely compacted and Moist wet poorly sorted reddish- brown top soil. 10.6 – 34 235.8 Phonolites Dry 34 – 144 49.6 Fractured phonolite with Moist with wet fractures tuffs 144 – 292.0 Phonolite with some Dry, wet from 170m fractures 6 CONCLUSIONS AND RECOMMENDATIONS Sertonje area is situated in a zone with medium groundwater potential. The investigated plot is underlain by volcanics.\n",
      "Distance: 3.4989900649065664\n",
      "\n",
      "\n",
      "Project ID: P154784\n",
      "Project title: Kenya - Climate Smart Agriculture Project : Environmental Assessment (Vol. 7) : Environmental and Social Impact Assessment for Sertonje Borehole Sub-project, Mugurin Sub Location, Simotwe Location, Kisanana Ward, Mogotio Sub County, Baringo County\n",
      "Project abstract: The development objective of the Climate Smart Agriculture Project for Kenya is to increase agricultural productivity and build resilience to climate change risks in the targeted smallholder farming and pastoral communities in Kenya, and in the event of an eligible crisis or emergency, to provide immediate and effective response. Suggested measures included sensitization of the community on livestock disease control and prevention and provision of extension, intensify disease and pest surveillance; rehabilitate through reinstatement and tree planting all sites that are being used for construction activities such as camps, materials site (borrow pits and quarries) sites for storage materials and any paths, tracks that may be established during the construction phase and the water management committee should take charge of ensuring sustainability of this; dust from excavations and earth moving vehicles as well as materials delivery; emissions such as smoke, hydrocarbons and nitrogenous gases among others from machinery exhausts; the stockpiles of earth generated during construction works should be suppressed by spraying water or water-based mixtures. Spraying should also be carried out on unpaved road accesses regularly; all machinery and equipment should be maintained in good working order to ensure minimum emissions including carbon monoxide, oxides of Nitrogen and Sulphur, as well as suspended particulate matter; and drivers of construction vehicles and delivery trucks should be cautioned to drive slowly near the site to avoid creating dusty conditions. The drivers of construction vehicles and delivery trucks must be supervised so that they do not leave vehicles idling and limit their speeds so that dust levels are lowered.\n",
      "Relevant snippet: The measurement were executed in an expanding Schlumberger array with electrode spreads AB/2 = 250 m. 151 Field Data AB/ MN/2 Resistivity(ρ) 1.60 2 0.50 90.16 2.00 0.50 82.64 2.50 0.50 71.22 3.20 0.50 58.69 4.00 0.50 50.43 5.00 0.50 45.27 6.30 0.50 41.46 8.00 0.50 39.42 10.00 0.50 39.35 13.00 0.50 40.35 16.00 0.50 45.72 20.00 0.50 57.88 25.00 0.50 61.01 32.00 0.50 77.69 32.00 10.0 69.06 40.00 0 77.10 50.00 10.0 85.66 63.00 0 83.61 80.00 10.0 91.27 100.00 0 113.90 10.0 130.00 82.69 0 145.00 93.82 10.0 160.00 0 86.51 180.00 10.0 76.34 200.00 0 65.20 225.00 10.0 98.62 250.00 0 97.11 10.0 5.3 Interpretation and analysis. VES graph 0 10.0 0 10.0 0 10.0 0 10.0 0 10.0 0 Table 1 hydrogeological interpretation of VES 152 Depth (m) Resistivity Interpretation Remarks (Ohm.) 0 – 1.3 92.6 Loosely compacted and dry Moist due to run-off poorly sorted reddish- brown top soil. 1.3– 10.6 29.0 Loosely compacted and Moist wet poorly sorted reddish- brown top soil. 10.6 – 34 235.8 Phonolites Dry 34 – 144 49.6 Fractured phonolite with Moist with wet fractures tuffs 144 – 292.0 Phonolite with some Dry, wet from 170m fractures 6 CONCLUSIONS AND RECOMMENDATIONS Sertonje area is situated in a zone with medium groundwater potential. The investigated plot is underlain by volcanics.\n",
      "Distance: 3.4988813722495595\n",
      "\n",
      "\n"
     ]
    }
   ],
   "source": [
    "# Define the query\n",
    "query = \"Main challengues for Climate Smart Agriculture\"\n",
    "\n",
    "# Perform the search\n",
    "results = search(query, model, db_config)\n",
    "# Print the results\n",
    "for project_id, chunk, distance in results:\n",
    "    project = next((p for p in projects if p[\"ids\"] == [project_id]), None)\n",
    "    print(f\"Project ID: {project_id}\")\n",
    "    print(f\"Project title: {project['title']}\")\n",
    "    print(f\"Project abstract: {project['abstract']}\")\n",
    "    print(f\"Relevant snippet: {chunk}\")\n",
    "    print(f\"Distance: {distance}\")\n",
    "    print(\"\\n\")\n"
   ]
  },
  {
   "cell_type": "code",
   "execution_count": null,
   "metadata": {},
   "outputs": [],
   "source": []
  }
 ],
 "metadata": {
  "kernelspec": {
   "display_name": "s2",
   "language": "python",
   "name": "python3"
  },
  "language_info": {
   "codemirror_mode": {
    "name": "ipython",
    "version": 3
   },
   "file_extension": ".py",
   "mimetype": "text/x-python",
   "name": "python",
   "nbconvert_exporter": "python",
   "pygments_lexer": "ipython3",
   "version": "3.11.0"
  },
  "orig_nbformat": 4
 },
 "nbformat": 4,
 "nbformat_minor": 2
}
