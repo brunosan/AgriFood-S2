{
 "cells": [
  {
   "cell_type": "code",
   "execution_count": 13,
   "metadata": {},
   "outputs": [
    {
     "name": "stdout",
     "output_type": "stream",
     "text": [
      "Project ID: P164448\n",
      "Sentence: Landless agricultural laborers.\n",
      "\n",
      "Project ID: P145037\n",
      "Sentence: Agricultural Statistics.\n",
      "\n",
      "Project ID: P154784\n",
      "Sentence:  and agriculture and livestock\n",
      "\n",
      "Project ID: P154784\n",
      "Sentence:  and agriculture and livestock\n",
      "\n",
      "Project ID: P164448\n",
      "Sentence:  improved manure management\n",
      "\n",
      "Project ID: P164448\n",
      "Sentence: Strengthening farmers knowledge of area-specific fertilizer utilization.\n",
      "\n",
      "Project ID: P164448\n",
      "Sentence: Agriculture or Agricultural includes: crops, livestock, capture fisheries, aquaculture, agroforestry, timber, and non-timber forest products.\n",
      "\n",
      "Project ID: P154784\n",
      "Sentence:  (ii) Strengthening Climate-Smart Agricultural Research and Seed Systems\n",
      "\n",
      "Project ID: P154784\n",
      "Sentence:  (ii) Strengthening Climate-Smart Agricultural Research and Seed Systems\n",
      "\n",
      "Project ID: P164448\n",
      "Sentence: Strengthening fertilizer inspection capacity.\n",
      "\n"
     ]
    }
   ],
   "source": [
    "import sqlite3, json\n",
    "import numpy as np\n",
    "from annoy import AnnoyIndex\n",
    "from sentence_transformers import SentenceTransformer\n",
    "\n",
    "model = SentenceTransformer('sentence-transformers/paraphrase-mpnet-base-v2')\n",
    "embedding_dim = model.get_sentence_embedding_dimension()\n",
    "\n",
    "\n",
    "# Load the Annoy index\n",
    "annoy_index = AnnoyIndex(embedding_dim, 'angular')\n",
    "annoy_index.load('embeddings.ann')\n",
    "\n",
    "# Perform a search using the Annoy index\n",
    "query = \"Remote sensing for fertilizer management\"\n",
    "query_embedding = model.encode(query)\n",
    "\n",
    "n_nearest_neighbors = 10\n",
    "nearest_neighbors = annoy_index.get_nns_by_vector(query_embedding, n_nearest_neighbors)\n",
    "\n",
    "# Load the projects\n",
    "with open(\"digital_agriculture_projects.json\", \"r\") as f:\n",
    "    projects = json.load(f)\n",
    "\n",
    "# Print the search results\n",
    "with sqlite3.connect('embeddings.db') as conn:\n",
    "    c = conn.cursor()\n",
    "    for neighbor_id in nearest_neighbors:\n",
    "        c.execute(\"SELECT project_id, sentence FROM embeddings WHERE id=?\", (neighbor_id,))\n",
    "        result = c.fetchone()\n",
    "        if result is not None:\n",
    "            project_id, sentence = result\n",
    "            #get the project title from the file projects.json using project_id\n",
    "\n",
    "\n"
   ]
  },
  {
   "cell_type": "code",
   "execution_count": null,
   "metadata": {},
   "outputs": [],
   "source": []
  }
 ],
 "metadata": {
  "kernelspec": {
   "display_name": "s2",
   "language": "python",
   "name": "python3"
  },
  "language_info": {
   "codemirror_mode": {
    "name": "ipython",
    "version": 3
   },
   "file_extension": ".py",
   "mimetype": "text/x-python",
   "name": "python",
   "nbconvert_exporter": "python",
   "pygments_lexer": "ipython3",
   "version": "3.9.15"
  },
  "orig_nbformat": 4
 },
 "nbformat": 4,
 "nbformat_minor": 2
}
