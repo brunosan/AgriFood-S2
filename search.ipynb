{
 "cells": [
  {
   "cell_type": "code",
   "execution_count": 11,
   "metadata": {},
   "outputs": [],
   "source": [
    "import psycopg2\n",
    "import json\n",
    "import numpy as np\n",
    "\n",
    "#importing local modules\n",
    "from tokenize_sentences2db import openai_embeddings,log\n",
    "import importlib\n",
    "#importlib.reload(chunk_splitter)\n",
    "#importlib.reload(openai_embeddings)\n",
    "\n",
    "# Function to perform the search\n",
    "def search(query, model, db_config,number_of_results):\n",
    "    # Encode the query\n",
    "    log(\"Encoding the query...\")\n",
    "    query_embedding = openai_embeddings(model,query)[0]\n",
    "    log(\"Finding the most similar projects...\")\n",
    "    # Connect to the database\n",
    "    with psycopg2.connect(**db_config) as conn:\n",
    "        c = conn.cursor()\n",
    "\n",
    "        # Search for the top projects by cosine similarity\n",
    "        c.execute(\"\"\"\n",
    "            SELECT project_id, chunk, embedding <-> %s::VECTOR AS distance\n",
    "            FROM embeddings_openai\n",
    "            ORDER BY distance ASC\n",
    "            LIMIT %s;\n",
    "        \"\"\", (list(query_embedding), number_of_results))\n",
    "        \n",
    "        results = c.fetchall()\n",
    "    log(\"Done! Found {} results.\".format(len(results)))\n",
    "    return results\n",
    "\n",
    "\n",
    "# Define the database configuration\n",
    "db_config = {\n",
    "    'dbname': 'wb_s2_embeddings',\n",
    "    'user': 's2',\n",
    "    'password': 'wb@s2',\n",
    "    'host': 'localhost',\n",
    "    'port': 5432\n",
    "}\n",
    "\n"
   ]
  },
  {
   "cell_type": "code",
   "execution_count": 12,
   "metadata": {},
   "outputs": [
    {
     "name": "stdout",
     "output_type": "stream",
     "text": [
      "[NbConvertApp] Converting notebook search.ipynb to script\n",
      "[NbConvertApp] Writing 2181 bytes to search.py\n"
     ]
    }
   ],
   "source": [
    "#convert this notebook to a python script\n",
    "!jupyter nbconvert --to script search.ipynb"
   ]
  },
  {
   "cell_type": "code",
   "execution_count": 16,
   "metadata": {},
   "outputs": [
    {
     "name": "stdout",
     "output_type": "stream",
     "text": [
      "17:06:46 - Encoding the query...\n",
      "17:06:56 - Finding the most similar projects...\n",
      "17:06:56 - Done! Found 5 results.\n",
      "Project ID: P164448\n",
      "Project title: Myanmar - National Food and Agriculture System Project\n",
      "Project abstract: The objective of the National Food and Agriculture System Project for Myanmar is to increase agricultural productivity and diversification and to enhance market access for Selected Value Chains in the Project Area, and respond to an Eligible Crisis or Emergency. The Project has four components. 1. Agriculture Productivity Enhancement and Diversification component will focus on: (a) Strengthening Agricultural Research and Development System; (b) Improving the Quality and Utilization of Agricultural Inputs; (c) Strengthening Agriculture Extension Services through Digital Technologies and (d) Improving Irrigation and Drainage Infrastructure. 2. Value-Chain Development component will focus on: (a) Supporting Value Addition and Market Access and (b) International Standard Certification and Animal Disease Control. 3. Project Management, Coordination, and Monitoring and Evaluation component will support effective project management systems for financial management; procurement, social and environmental safeguards management at the union, state, and township levels; and monitoring and evaluation, including baseline, midline, and final impact assessment surveys. 4. Contingent Emergency Response component will support emergency response and recovery.\n",
      "Relevant snippet: The safeguard category will remain as category B given the nature of these new additional activities which include the irrigation rehabilitation and maintenance through labor-intensive work (component 1.d) agriculture inputs support through voucher (Component 1.b) support to seed cooperatives (component 2.a). 137.\n",
      "Distance: 0.6967520557813855\n",
      "\n",
      "\n",
      "Project ID: P107473\n",
      "Project title: Montenegro - Institutional Development and Agriculture Strengthening Project (MIDAS)\n",
      "Project abstract: Ratings for the Institutional Development and Agricultural Strengthening Project (MIAS) are as follows: Outcome was satisfactory, Overall efficacy was substantial, Bank performance was satisfactory, and Quality of monitoring and evaluation was substantial. This assessment offers the following lessons: (i) A clear articulation of the expected transformation of the agriculture sector, and a logically associated and well-defined path to follow at the institutional and production level, is crucial in justifying reforms and achieving desired outcomes. (ii) A practical “learning by doing” pilot approach can help identify and address bottlenecks and prepare the sector for new practices and procedures. (iii) Sector weaknesses need to be addressed in a holistic manner at institutional, administrative, regulatory, and production levels to comprehensively foster a country’s agriculture sector competitiveness. (iv) Projects supporting compliance with market standards can help beneficiaries meet necessary conditions for market participation, but they do not guarantee market inclusion or expansion without connection support for new market linkages. (v) Access to finance for agricultural producers should be assessed at appraisal to test the extent to which limited credit is an overarching constraint to broader sector development.\n",
      "Relevant snippet: Half of the respondents gave the unsolicited answer that another benefit was an increase in hygiene practices because of the new equipment either because of its physical condition (as in the case of upgrading to stainless steel) or ease of cleaning compared with the previous conditions. In terms of offtake markets 75 percent of the interviewed food establishments highlighted their expansion to new markets particularly in the coastal areas that are tourism destinations or sales to local or national supermarket chains.\n",
      "Distance: 0.7011500350414012\n",
      "\n",
      "\n",
      "Project ID: P164448\n",
      "Project title: Myanmar - National Food and Agriculture System Project\n",
      "Project abstract: The objective of the National Food and Agriculture System Project for Myanmar is to increase agricultural productivity and diversification and to enhance market access for Selected Value Chains in the Project Area, and respond to an Eligible Crisis or Emergency. The Project has four components. 1. Agriculture Productivity Enhancement and Diversification component will focus on: (a) Strengthening Agricultural Research and Development System; (b) Improving the Quality and Utilization of Agricultural Inputs; (c) Strengthening Agriculture Extension Services through Digital Technologies and (d) Improving Irrigation and Drainage Infrastructure. 2. Value-Chain Development component will focus on: (a) Supporting Value Addition and Market Access and (b) International Standard Certification and Animal Disease Control. 3. Project Management, Coordination, and Monitoring and Evaluation component will support effective project management systems for financial management; procurement, social and environmental safeguards management at the union, state, and township levels; and monitoring and evaluation, including baseline, midline, and final impact assessment surveys. 4. Contingent Emergency Response component will support emergency response and recovery.\n",
      "Relevant snippet: resilient inclusive competitive and environmentally sustainable RPF Resettlement Policy Framework SCF standard conversion factor SMEs small and medium enterprises STEP Systematic Tracking of Exchanges in Procurement ToC Theory of Change USAID United States Agency for International Development UXO unexploded ordnances VCC value chain cluster VPG vulnerable population group WLF women lead farmers WUG Water User Group The World Bank National Food and Agriculture System Project (P164448) TABLE OF CONTENTS DATASHEET . 1 I. STRATEGIC CONTEXT . 7 A. Country Context. 7 B. Sectoral and Institutional Context . 8 C. Relevance to Higher-Level Objectives . 15 II. PROJECT DESCRIPTION.\n",
      "Distance: 0.7015652303079559\n",
      "\n",
      "\n",
      "Project ID: P164448\n",
      "Project title: Myanmar - National Food and Agriculture System Project\n",
      "Project abstract: The objective of the National Food and Agriculture System Project for Myanmar is to increase agricultural productivity and diversification and to enhance market access for Selected Value Chains in the Project Area, and respond to an Eligible Crisis or Emergency. The Project has four components. 1. Agriculture Productivity Enhancement and Diversification component will focus on: (a) Strengthening Agricultural Research and Development System; (b) Improving the Quality and Utilization of Agricultural Inputs; (c) Strengthening Agriculture Extension Services through Digital Technologies and (d) Improving Irrigation and Drainage Infrastructure. 2. Value-Chain Development component will focus on: (a) Supporting Value Addition and Market Access and (b) International Standard Certification and Animal Disease Control. 3. Project Management, Coordination, and Monitoring and Evaluation component will support effective project management systems for financial management; procurement, social and environmental safeguards management at the union, state, and township levels; and monitoring and evaluation, including baseline, midline, and final impact assessment surveys. 4. Contingent Emergency Response component will support emergency response and recovery.\n",
      "Relevant snippet: shall: (i) proceed to have such Safeguard Instrument or Safeguards Assessment and Plan: (A) prepared or updated (as the case may be) and consulted upon adequately with people who may be affected by the Project and in accordance with the provisions of the ESAP; (B) furnished to the Association for review and no- objection; and (C) thereafter adopted and disclosed by the Recipient as accepted by the Association\n",
      "Distance: 0.7055102574697001\n",
      "\n",
      "\n",
      "Project ID: P107473\n",
      "Project title: Montenegro - Institutional Development and Agriculture Strengthening Project (MIDAS)\n",
      "Project abstract: Ratings for the Institutional Development and Agricultural Strengthening Project (MIAS) are as follows: Outcome was satisfactory, Overall efficacy was substantial, Bank performance was satisfactory, and Quality of monitoring and evaluation was substantial. This assessment offers the following lessons: (i) A clear articulation of the expected transformation of the agriculture sector, and a logically associated and well-defined path to follow at the institutional and production level, is crucial in justifying reforms and achieving desired outcomes. (ii) A practical “learning by doing” pilot approach can help identify and address bottlenecks and prepare the sector for new practices and procedures. (iii) Sector weaknesses need to be addressed in a holistic manner at institutional, administrative, regulatory, and production levels to comprehensively foster a country’s agriculture sector competitiveness. (iv) Projects supporting compliance with market standards can help beneficiaries meet necessary conditions for market participation, but they do not guarantee market inclusion or expansion without connection support for new market linkages. (v) Access to finance for agricultural producers should be assessed at appraisal to test the extent to which limited credit is an overarching constraint to broader sector development.\n",
      "Relevant snippet: checklists in line with International Organization for Standardization (ISO) standard 17020 and the EU aquis,15 and updating of the animal identification and registration system that became part of the IACS (World Bank 2020a). 2.12 The assessment mission confirmed the sustained use of these systems and plans and the continued relevance of the training provided to AFSVPA staff for current inspection and monitoring operations.\n",
      "Distance: 0.7063718279841948\n",
      "\n",
      "\n"
     ]
    }
   ],
   "source": [
    "model=\"text-embedding-ada-002\"\n",
    "number_of_results = 5\n",
    "\n",
    "# Database configuration\n",
    "db_config = {\n",
    "    'dbname': 'wb_s2_embeddings',\n",
    "    'user': 's2',\n",
    "    'password': 'wb@s2',\n",
    "    'host': 'localhost',\n",
    "    'port': 5432\n",
    "}\n",
    "\n",
    "# Load the projects\n",
    "with open(\"digital_agriculture_projects.json\", \"r\") as f:\n",
    "    projects = json.load(f)\n",
    "\n",
    "# Define the query\n",
    "query = \"Satellite Remote sensing\"\n",
    "\n",
    "# Perform the search\n",
    "results = search(query, model, db_config,number_of_results)\n",
    "results=results[::-1]\n",
    "# Print the results\n",
    "for project_id, chunk, distance in results:\n",
    "    project = next((p for p in projects if \",\".join(p[\"ids\"]) == project_id), None)\n",
    "    print(f\"Project ID: {project_id}\")\n",
    "    print(f\"Project title: {project['title']}\")\n",
    "    print(f\"Project abstract: {project['abstract']}\")\n",
    "    print(f\"Relevant snippet: {chunk}\")\n",
    "    print(f\"Distance: {distance}\")\n",
    "    print(\"\\n\")\n"
   ]
  },
  {
   "cell_type": "code",
   "execution_count": null,
   "metadata": {},
   "outputs": [],
   "source": []
  }
 ],
 "metadata": {
  "kernelspec": {
   "display_name": "s2",
   "language": "python",
   "name": "python3"
  },
  "language_info": {
   "codemirror_mode": {
    "name": "ipython",
    "version": 3
   },
   "file_extension": ".py",
   "mimetype": "text/x-python",
   "name": "python",
   "nbconvert_exporter": "python",
   "pygments_lexer": "ipython3",
   "version": "3.11.0"
  },
  "orig_nbformat": 4
 },
 "nbformat": 4,
 "nbformat_minor": 2
}
