{
 "cells": [
  {
   "cell_type": "code",
   "execution_count": 15,
   "metadata": {},
   "outputs": [],
   "source": [
    "import psycopg2\n",
    "import json\n",
    "import numpy as np\n",
    "from annoy import AnnoyIndex\n",
    "from sentence_transformers import SentenceTransformer\n",
    "\n",
    "number_of_results = 5\n",
    "\n",
    "# Database configuration\n",
    "db_config = {\n",
    "    'dbname': 'wb_s2_embeddings',\n",
    "    'user': 's2',\n",
    "    'password': 'wb@s2',\n",
    "    'host': 'localhost',\n",
    "    'port': 5432\n",
    "}\n",
    "\n",
    "model = SentenceTransformer('sentence-transformers/paraphrase-mpnet-base-v2')\n",
    "\n",
    "# Load the projects\n",
    "with open(\"digital_agriculture_projects.json\", \"r\") as f:\n",
    "    projects = json.load(f)\n",
    "\n",
    "# Function to perform the search\n",
    "def search(query, model, db_config):\n",
    "    # Encode the query\n",
    "    query_embedding = model.encode([query])[0]\n",
    "    query_embedding = [float(value) for value in query_embedding]\n",
    "\n",
    "    \n",
    "    # Connect to the database\n",
    "    with psycopg2.connect(**db_config) as conn:\n",
    "        c = conn.cursor()\n",
    "\n",
    "        # Search for the top projects by cosine similarity\n",
    "        c.execute(\"\"\"\n",
    "            SELECT project_id, chunk, embedding <-> %s::VECTOR AS distance\n",
    "            FROM embeddings\n",
    "            ORDER BY distance ASC\n",
    "            LIMIT %s;\n",
    "        \"\"\", (list(query_embedding), number_of_results))\n",
    "        \n",
    "        results = c.fetchall()\n",
    "    \n",
    "    return results\n",
    "\n",
    "# Initialize the model\n",
    "model = SentenceTransformer('sentence-transformers/paraphrase-mpnet-base-v2')\n",
    "\n",
    "# Define the database configuration\n",
    "db_config = {\n",
    "    'dbname': 'wb_s2_embeddings',\n",
    "    'user': 's2',\n",
    "    'password': 'wb@s2',\n",
    "    'host': 'localhost',\n",
    "    'port': 5432\n",
    "}\n",
    "\n"
   ]
  },
  {
   "cell_type": "code",
   "execution_count": 16,
   "metadata": {},
   "outputs": [
    {
     "name": "stdout",
     "output_type": "stream",
     "text": [
      "huggingface/tokenizers: The current process just got forked, after parallelism has already been used. Disabling parallelism to avoid deadlocks...\n",
      "To disable this warning, you can either:\n",
      "\t- Avoid using `tokenizers` before the fork if possible\n",
      "\t- Explicitly set the environment variable TOKENIZERS_PARALLELISM=(true | false)\n",
      "[NbConvertApp] Converting notebook search.ipynb to script\n",
      "[NbConvertApp] Writing 2176 bytes to search.py\n"
     ]
    }
   ],
   "source": [
    "#convert this notebook to a python script\n",
    "!jupyter nbconvert --to script search.ipynb"
   ]
  },
  {
   "cell_type": "code",
   "execution_count": 19,
   "metadata": {},
   "outputs": [
    {
     "name": "stdout",
     "output_type": "stream",
     "text": [
      "Project ID: P154784\n",
      "Project title: Kenya - Climate Smart Agriculture Project : Environmental Assessment (Vol. 7) : Environmental and Social Impact Assessment for Sertonje Borehole Sub-project, Mugurin Sub Location, Simotwe Location, Kisanana Ward, Mogotio Sub County, Baringo County\n",
      "Project abstract: The development objective of the Climate Smart Agriculture Project for Kenya is to increase agricultural productivity and build resilience to climate change risks in the targeted smallholder farming and pastoral communities in Kenya, and in the event of an eligible crisis or emergency, to provide immediate and effective response. Suggested measures included sensitization of the community on livestock disease control and prevention and provision of extension, intensify disease and pest surveillance; rehabilitate through reinstatement and tree planting all sites that are being used for construction activities such as camps, materials site (borrow pits and quarries) sites for storage materials and any paths, tracks that may be established during the construction phase and the water management committee should take charge of ensuring sustainability of this; dust from excavations and earth moving vehicles as well as materials delivery; emissions such as smoke, hydrocarbons and nitrogenous gases among others from machinery exhausts; the stockpiles of earth generated during construction works should be suppressed by spraying water or water-based mixtures. Spraying should also be carried out on unpaved road accesses regularly; all machinery and equipment should be maintained in good working order to ensure minimum emissions including carbon monoxide, oxides of Nitrogen and Sulphur, as well as suspended particulate matter; and drivers of construction vehicles and delivery trucks should be cautioned to drive slowly near the site to avoid creating dusty conditions. The drivers of construction vehicles and delivery trucks must be supervised so that they do not leave vehicles idling and limit their speeds so that dust levels are lowered.\n",
      "Relevant snippet: Title: Kenya - Climate Smart Agriculture Project : Environmental Assessment : Environmental Management Plan for Aekumi Rock Catchment, Tharaka Nithi County\n",
      "Distance: 2.981015485910647\n",
      "\n",
      "\n",
      "Project ID: P125585\n",
      "Project title: Nigeria - Fadama Information and Knowledge Services\n",
      "Project abstract: The development objective of the Fadama Information and Knowledge Services Project for Nigeria is to establish sustainable, Fadama information, knowledge and business advisory services centers (FIKS) to increase farm productivity and rural household incomes in the poorest sections of the Fadama community in Cross River, Lagos, Sokoto and Yobe states over a four year period using a variety of information and communication technologies. The project comprises of three components. The first component, development of virtual agriculture and veterinary advisory services to develop virtual advisory services in agriculture and veterinary services by linking the Fadama farmers to local, national and international specialists in the university, national and international agricultural research institutes, private sector, NGOs, Farmer associations, etc., to provide near and/or real time advisory services to solve problems faced by the farmers focusing on their main agricultural crops and livestock products; The second component, establishment of Fadama information and knowledge services centers is to provide transaction based IT enabled locally relevant information and knowledge services to improve rural productivity and incomes of the poorest sections of the Fadama farm community in Cross River, Lagos, Sokoto and Yobe states; The third component, monitoring, evaluation, learning and audit is to establish a dynamic monitoring and evaluation system which would track input, output, outcome, and impact indicators to measure the performance of the proposed activities of the JSDF project.\n",
      "Relevant snippet: Some of the areas which the Fadama farmers have requested advice on include improved production techniques of food crops, commercial seed production; specialized horticultural crop and fruit trees production, seedling production; integrated pest management; how to reduce post harvest losses, livestock production, veterinary care, livestock feed; fish production (aquaculture, fingerling production, fish feed; special production (wild like domestication, bee keeping, snailery, cheese making); agro-forestry production, seedling production; soil and water conservation; irrigation, water management, water conveyance systems; storage, etc. b.\n",
      "Distance: 2.99086351132079\n",
      "\n",
      "\n",
      "Project ID: P036950,P003558,P003463,P003560,P003581,P003502,P003504,P003636\n",
      "Project title: China - A review of development challenges across selected sectors and performance assessment reports (8)\n",
      "Project abstract: This report assesses the performance of eight projects as well as informs an OED Country Assistance Evaluation for China. Hence, the report goes beyond individual project assessments to examine relevant cross-sectoral issues. The eight assessed projects supported the Government of Chinas development strategies in five sectors: agriculture, forestry, education, health, and transport. All were approved between 1990 and 1996 and closed between December 1997 and 2001. Three of them closed behind schedule. Project ratings ranged between moderately satisfactory and satisfactory. Three projects had project ratings of moderately satisfactory while the rest were satisfactory. Six of the projects were likely to be sustainable while two were non-evaluable. Three projects were expected to have modest development impact while the rest had substantial development impact. World Bank and Borrower performances were satisfactory for all but the National Afforestation Project, which was rated as highly satisfactory. Two broad categories of lessons with implications for the Banks future involvement are offered: 1) To enhave development impact, attention to institutional issues is essential, as is continued and deepening Bank engagement. 2) To strengthen the focus on poverty reduction, improve targeting, coordinate sectoral efforts, and pay particular attention to poorer provinces that have special needs.\n",
      "Relevant snippet: Economist, E=Economist, IE=Irrigation Engineer, EPA=Economist/Project Analyst, LAS=Livestock & Aquaculture Specialist, MPS=Meat Processing Specialist, APS= Agro- processing Specialist, NC= National Water Resources Consultant, OAS=Operations Agriculture Specialist, LS=Livestock Specialist, AIS=Agro-Industries Spec., EE=Environmental Engineer, AS=Aquaculture Specialist, AEP=Agro- Environmental Protectionist, BEC=Biologist Environmental Consultant, DC=Division Chief, SAE=Sr. Agric. Economist, PA=Procurement Analyst, WRS=Water Resources Spec. Other Project Data Borrower/Executing Agency: FoLLow-ON OPERATIoNs Operation Credit no.\n",
      "Distance: 3.0236827711796557\n",
      "\n",
      "\n",
      "Project ID: P083609\n",
      "Project title: Senegal - Agricultural Markets and Agribusiness Development (APL) Project\n",
      "Project abstract: The Agricultural Markets and Agribusiness Development Program for Senegal aims to increase non-traditional agricultural exports and farm revenues for project producers. The end-of-project outcome indicators will be an increase of non-traditional agricultural exports from the 2004 level of 13,000 tons to 30,000 tons by 2010; and a 60 percent increase in farm incomes of small family farms, the projects primary target group. There are four project components. Component A improves food safety and the performance of the domestic distribution channels for crop and livestock products. It consists of four subcomponents: domestic supply chains consolidation; rural market infrastructure; knowledge management; and development of animal products markets. Component B expands non-traditional agricultural exports (ie., horticultural products, confectionary nuts, essential oils and spices, and processed foodstuffs) by leveraging the results achieved under the pilot Agricultural Export Promotion Project. It consists of three subcomponents: innovation and quality management; agricultural export infrastructure; and building agricultural export institutions. Component C: promotes demand-driven, public-private partnerships for irrigation investments to expand agribusiness across Senegal. It consists of four subcomponents: constructing public irrigation infrastructures in the Senegal River delta; promoting irrigation for crop diversification in the Senegal River delta; promoting micro-irrigation for crop diversification in the Niayes zone, the Groundnut Basin and Tambacounda region; and knowledge management and strategic studies. Component D ensures project coordination and monitoring and evaluation.\n",
      "Relevant snippet: Title: Senegal - Agricultural Markets and Agribusiness Development (APL) Project\n",
      "Distance: 3.0309014220904658\n",
      "\n",
      "\n",
      "Project ID: P123112\n",
      "Project title: Nigeria - Transforming Irrigation Management in Nigeria (TRIMING) Project : Environmental Assessment (Vol. 4) : Environmental and Social Impact Assessment for Zobe Dam and Associated Infrastructures Rehabilitation Works\n",
      "Project abstract: The development objective of the Transforming Irrigation Management in Nigeria (TRIMING) Project for Nigeria is to improve access to irrigation and drainage services and to strengthen institutional arrangement for integrated water resources management and agriculture service delivery in selected large scale public schemes in Northern Nigeria. Some of the negative impacts and mitigation measures are includes : (i) due to movement of vehicles and heavy equipment,precisely on dusty access roads as in the case of KRIS and HVIS, there will be increase of fugitive dust, especially if the pre-construction phase is in the dry season (November - March); (ii) soil compaction and soil structure changes may occur due to influx and stationary positioning of heavy-duty equipment and vehicles which may upset the underlying soil in pressured areas thereby increasing the potential for soil erosion; (iii)vegetation clearing and necessary earth works as a result of construction of new building will promote the alteration of some habitats, mischaracterizing them of their ecological functions, and in some cases evenleading to their elimination; (vi) reduced water supply for farming activities for farmers and domestic water users during civil works; (vii) degradation of local air quality as a result ofemission of cement and other particulate matter during construction; (viii) rehabilitation activities may reduce access to owned farm lands and other income generating activities thus disrupting economic activities; (ix) temporal blockage of access routes to farmlands and grazing/watering areas by repair materials, wastes and heavy trucks evacuating wastes and potential exposure of community members to construction hazard; (ix) sprinkling of water via spraying devices to limit dust; (x) awareness creation on expected behaviour for the workers, youth and general population of the community; (xi) enhanced fastening ofequipment to carriage section of vehicles; (xi) monitor quality and salinity level ofdrainage water and its impacts into the farms or other receptors.\n",
      "Relevant snippet: Table 4.11: Shrub and trees identified in the study area Scientific name Common name Habit Local uses Adansoniadigitata Baobab Tree Edible leaves and fruits Afromosialaxiflora Makerfo (Hausa) Tree Fuel wood Afzelia Africana Kawo (Hausa) Tree Fodder for livestock Albiziachevalieri Albizia Tree Shade plant Anogeissusleicarpa Marike (Hausa) Tree Chewing stick, medicinal Azadirachtaindica Neem Tree Fuel wood, medicinal Borassuseathiopum Ron palm Tree Edible fruits Bombaxcostatum Red silk cotton Tree Edible leaves and fruits Brachiariassp Grass Cattle feed Ceibapentandra Silk cotton Tree Edible leaf, Timber Danielliaoliveri Maje (Hausa) Tree Fuel wood Digitariasp Grass Cattle feed 7 ESIA Report for Zobe Dam and Associated Infrastructures Rehabilitation Works Khayasenegalensis Mahogany Tree Timer tree Mangiferaindica Mango Tree Fruit edible Parkiabiglobosa Locust bean Tree Fruit edible Phoenix doctylifera Date palm Tree Edible fruit Piliostigniareticulatum Kalgo (Hausa) Tree Fruit eaten Sennaoccidentialis Coffee senna Herb Leaves edible Tamarindusindica Isamiya (Hausa) Tree Fruits eaten by cattle Terminaliaavicennoides Boushe (Hausa) Tree Fuel wood Vitellariaparadoxa Shea butter tree Tree Edible fruit and vegetation oil Eucalyptus camaldulensis Euslyptus Tree Planted shelter tree Hymenocardiaacida Janyaro (Hausa) Tree Fuel wood Hyphaenethebaica Dum palm Tree Fruit for livestock feed Isoberliniadoka Doka (Hausa) Tree Fuel wood Fauna No game mammals were sighted.\n",
      "Distance: 3.036239049317216\n",
      "\n",
      "\n"
     ]
    }
   ],
   "source": [
    "# Define the query\n",
    "query = \"Main challengues for Climate Smart Agriculture\"\n",
    "\n",
    "# Perform the search\n",
    "results = search(query, model, db_config)\n",
    "results[::-1]\n",
    "# Print the results\n",
    "for project_id, chunk, distance in results:\n",
    "    project = next((p for p in projects if \",\".join(p[\"ids\"]) == project_id), None)\n",
    "    print(f\"Project ID: {project_id}\")\n",
    "    print(f\"Project title: {project['title']}\")\n",
    "    print(f\"Project abstract: {project['abstract']}\")\n",
    "    print(f\"Relevant snippet: {chunk}\")\n",
    "    print(f\"Distance: {distance}\")\n",
    "    print(\"\\n\")\n"
   ]
  },
  {
   "cell_type": "code",
   "execution_count": null,
   "metadata": {},
   "outputs": [],
   "source": []
  }
 ],
 "metadata": {
  "kernelspec": {
   "display_name": "s2",
   "language": "python",
   "name": "python3"
  },
  "language_info": {
   "codemirror_mode": {
    "name": "ipython",
    "version": 3
   },
   "file_extension": ".py",
   "mimetype": "text/x-python",
   "name": "python",
   "nbconvert_exporter": "python",
   "pygments_lexer": "ipython3",
   "version": "3.11.0"
  },
  "orig_nbformat": 4
 },
 "nbformat": 4,
 "nbformat_minor": 2
}
