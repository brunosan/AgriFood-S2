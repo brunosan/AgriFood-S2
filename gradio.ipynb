{
 "cells": [
  {
   "cell_type": "code",
   "execution_count": null,
   "metadata": {},
   "outputs": [],
   "source": [
    "import gradio as gr\n",
    "import psycopg2\n",
    "import json\n",
    "import numpy as np\n",
    "from annoy import AnnoyIndex\n",
    "from sentence_transformers import SentenceTransformer\n",
    "\n",
    "#local import \n",
    "from search import search\n",
    "\n",
    "\n",
    "def search_html(query):\n",
    "    results = search(query,model, db_config)\n",
    "    # Format the results as HTML-formatted text\n",
    "    html_output = \"\"\n",
    "    for project_id, chunk, distance in results:\n",
    "        project = next((p for p in projects if p[\"ids\"] == [project_id]), None)\n",
    "        html_output += f\"<h3>Project ID: {project_id}</h3>\"\n",
    "        html_output += f\"<h4>Project title: {project['title']}</h4>\"\n",
    "        html_output += f\"<p><b>Project abstract:</b> {project['abstract']}</p>\"\n",
    "        html_output += f\"<p><b>Relevant snippet:</b> {chunk}</p>\"\n",
    "        html_output += f\"<p><b>Distance:</b> {distance}</p>\"\n",
    "        html_output += \"<hr>\"\n",
    "    return html_output\n",
    "\n",
    "\n",
    "number_of_results = 5\n",
    "\n",
    "# Database configuration\n",
    "db_config = {\n",
    "    'dbname': 'wb_s2_embeddings',\n",
    "    'user': 's2',\n",
    "    'password': 'wb@s2',\n",
    "    'host': 'localhost',\n",
    "    'port': 5432\n",
    "}\n",
    "\n",
    "model = SentenceTransformer('sentence-transformers/paraphrase-mpnet-base-v2')\n",
    "\n",
    "# Load the projects\n",
    "with open(\"digital_agriculture_projects.json\", \"r\") as f:\n",
    "    projects = json.load(f)\n",
    "\n",
    "# Define Gradio input and output interfaces\n",
    "input_interface = gr.inputs.Textbox(lines=3, label=\"Enter your query\")\n",
    "output_interface = gr.outputs.HTML(label=\"Search Results\")\n",
    "\n",
    "# Create the Gradio interface\n",
    "iface = gr.Interface(\n",
    "    fn=search_html,\n",
    "    inputs=input_interface,\n",
    "    outputs=output_interface,\n",
    "    title=\"Project Search\",\n",
    "    description=\"Search for relevant projects using natural language queries.\",\n",
    ")\n",
    "\n",
    "# Launch the Gradio interface\n",
    "iface.launch()\n"
   ]
  },
  {
   "cell_type": "code",
   "execution_count": null,
   "metadata": {},
   "outputs": [],
   "source": []
  }
 ],
 "metadata": {
  "kernelspec": {
   "display_name": "s2",
   "language": "python",
   "name": "python3"
  },
  "language_info": {
   "codemirror_mode": {
    "name": "ipython",
    "version": 3
   },
   "file_extension": ".py",
   "mimetype": "text/x-python",
   "name": "python",
   "nbconvert_exporter": "python",
   "pygments_lexer": "ipython3",
   "version": "3.11.0"
  },
  "orig_nbformat": 4
 },
 "nbformat": 4,
 "nbformat_minor": 2
}
