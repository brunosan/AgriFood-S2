{
 "cells": [
  {
   "cell_type": "code",
   "execution_count": 6,
   "metadata": {},
   "outputs": [
    {
     "name": "stderr",
     "output_type": "stream",
     "text": [
      "/Users/brunosan/opt/miniconda3/envs/s2/lib/python3.11/site-packages/gradio/inputs.py:27: UserWarning: Usage of gradio.inputs is deprecated, and will not be supported in the future, please import your component from gradio.components\n",
      "  warnings.warn(\n",
      "/Users/brunosan/opt/miniconda3/envs/s2/lib/python3.11/site-packages/gradio/deprecation.py:40: UserWarning: `optional` parameter is deprecated, and it has no effect\n",
      "  warnings.warn(value)\n",
      "/Users/brunosan/opt/miniconda3/envs/s2/lib/python3.11/site-packages/gradio/deprecation.py:40: UserWarning: `numeric` parameter is deprecated, and it has no effect\n",
      "  warnings.warn(value)\n"
     ]
    },
    {
     "name": "stdout",
     "output_type": "stream",
     "text": [
      "Running on local URL:  http://127.0.0.1:7861\n",
      "\n",
      "To create a public link, set `share=True` in `launch()`.\n"
     ]
    },
    {
     "data": {
      "text/html": [
       "<div><iframe src=\"http://127.0.0.1:7861/\" width=\"100%\" height=\"500\" allow=\"autoplay; camera; microphone; clipboard-read; clipboard-write;\" frameborder=\"0\" allowfullscreen></iframe></div>"
      ],
      "text/plain": [
       "<IPython.core.display.HTML object>"
      ]
     },
     "metadata": {},
     "output_type": "display_data"
    },
    {
     "data": {
      "text/plain": []
     },
     "execution_count": 6,
     "metadata": {},
     "output_type": "execute_result"
    },
    {
     "name": "stdout",
     "output_type": "stream",
     "text": [
      "Project ID: P151072\n",
      "Project title: India - National Agriculture Higher Education Project : indigenous peoples plan : Indigenous peoples policy framework\n",
      "Project abstract: The objective of the National Agriculture Higher Education Project for India is: ‘to support participating Agricultural Universities and ICAR in providing more relevant and higher quality education to agriculture university students.’ ICAR has prepared this Equity Action Plan (EAP) or Indigenous People’s Policy Framework (IPPF) which addresses issues of gender equality and social inclusion with special attention to the needs of the Scheduled Tribe and the Scheduled Caste students and faculty members fulfilling the requirements of OP 4.10. This EAP/IPPF has been prepared using mostly qualitative research methodologies, including an online survey with the primary stakeholder - students and faculties from various social backgrounds, including ST and SC groups. This will be discussed and finalized with intensive stakeholder interviews and focus groups discussions with male and female students and faculties from various social backgrounds, including ST and SC groups, and poor and disadvantaged communities. Mitigation measures include: improving the learning efficiency, skill-sets of the students, especially those from socially and economically vulnerable groups including ST and SC, (ii) supporting faculty to improve their knowledge levels, pedagogical skills, and sensitivity to gender equality and social inclusion issues in agriculture educational institutions, (iii) encouraging institutions of excellence to organize annual technology innovation forums to enable students from various colleges share experiences and innovations; (iv) promoting mentorship amongst students and teachers (to aid needy students and younger faculty members); and (v) supporting research scholars as a part of Institutional Development Plans.\n",
      "Relevant snippet: Educational Sciences\n",
      "Distance: 3.830894529995666\n",
      "\n",
      "\n",
      "Project ID: P154784\n",
      "Project title: Kenya - Climate Smart Agriculture Project : Environmental Assessment (Vol. 7) : Environmental and Social Impact Assessment for Sertonje Borehole Sub-project, Mugurin Sub Location, Simotwe Location, Kisanana Ward, Mogotio Sub County, Baringo County\n",
      "Project abstract: The development objective of the Climate Smart Agriculture Project for Kenya is to increase agricultural productivity and build resilience to climate change risks in the targeted smallholder farming and pastoral communities in Kenya, and in the event of an eligible crisis or emergency, to provide immediate and effective response. Suggested measures included sensitization of the community on livestock disease control and prevention and provision of extension, intensify disease and pest surveillance; rehabilitate through reinstatement and tree planting all sites that are being used for construction activities such as camps, materials site (borrow pits and quarries) sites for storage materials and any paths, tracks that may be established during the construction phase and the water management committee should take charge of ensuring sustainability of this; dust from excavations and earth moving vehicles as well as materials delivery; emissions such as smoke, hydrocarbons and nitrogenous gases among others from machinery exhausts; the stockpiles of earth generated during construction works should be suppressed by spraying water or water-based mixtures. Spraying should also be carried out on unpaved road accesses regularly; all machinery and equipment should be maintained in good working order to ensure minimum emissions including carbon monoxide, oxides of Nitrogen and Sulphur, as well as suspended particulate matter; and drivers of construction vehicles and delivery trucks should be cautioned to drive slowly near the site to avoid creating dusty conditions. The drivers of construction vehicles and delivery trucks must be supervised so that they do not leave vehicles idling and limit their speeds so that dust levels are lowered.\n",
      "Relevant snippet: The drivers of construction vehicles and delivery trucks must be supervised so that they do not leave vehicles idling and limit their speeds so that dust levels are lowered.\n",
      "Distance: 3.3084748499336585\n",
      "\n",
      "\n",
      "Project ID: P154784\n",
      "Project title: Kenya - Climate Smart Agriculture Project : Environmental Assessment (Vol. 7) : Environmental and Social Impact Assessment for Sertonje Borehole Sub-project, Mugurin Sub Location, Simotwe Location, Kisanana Ward, Mogotio Sub County, Baringo County\n",
      "Project abstract: The development objective of the Climate Smart Agriculture Project for Kenya is to increase agricultural productivity and build resilience to climate change risks in the targeted smallholder farming and pastoral communities in Kenya, and in the event of an eligible crisis or emergency, to provide immediate and effective response. Suggested measures included sensitization of the community on livestock disease control and prevention and provision of extension, intensify disease and pest surveillance; rehabilitate through reinstatement and tree planting all sites that are being used for construction activities such as camps, materials site (borrow pits and quarries) sites for storage materials and any paths, tracks that may be established during the construction phase and the water management committee should take charge of ensuring sustainability of this; dust from excavations and earth moving vehicles as well as materials delivery; emissions such as smoke, hydrocarbons and nitrogenous gases among others from machinery exhausts; the stockpiles of earth generated during construction works should be suppressed by spraying water or water-based mixtures. Spraying should also be carried out on unpaved road accesses regularly; all machinery and equipment should be maintained in good working order to ensure minimum emissions including carbon monoxide, oxides of Nitrogen and Sulphur, as well as suspended particulate matter; and drivers of construction vehicles and delivery trucks should be cautioned to drive slowly near the site to avoid creating dusty conditions. The drivers of construction vehicles and delivery trucks must be supervised so that they do not leave vehicles idling and limit their speeds so that dust levels are lowered.\n",
      "Relevant snippet: The drivers of construction vehicles and delivery trucks must be supervised so that they do not leave vehicles idling and limit their speeds so that dust levels are lowered.\n",
      "Distance: 3.308436400610957\n",
      "\n",
      "\n",
      "Project ID: P154784\n",
      "Project title: Kenya - Climate Smart Agriculture Project : Environmental Assessment (Vol. 7) : Environmental and Social Impact Assessment for Sertonje Borehole Sub-project, Mugurin Sub Location, Simotwe Location, Kisanana Ward, Mogotio Sub County, Baringo County\n",
      "Project abstract: The development objective of the Climate Smart Agriculture Project for Kenya is to increase agricultural productivity and build resilience to climate change risks in the targeted smallholder farming and pastoral communities in Kenya, and in the event of an eligible crisis or emergency, to provide immediate and effective response. Suggested measures included sensitization of the community on livestock disease control and prevention and provision of extension, intensify disease and pest surveillance; rehabilitate through reinstatement and tree planting all sites that are being used for construction activities such as camps, materials site (borrow pits and quarries) sites for storage materials and any paths, tracks that may be established during the construction phase and the water management committee should take charge of ensuring sustainability of this; dust from excavations and earth moving vehicles as well as materials delivery; emissions such as smoke, hydrocarbons and nitrogenous gases among others from machinery exhausts; the stockpiles of earth generated during construction works should be suppressed by spraying water or water-based mixtures. Spraying should also be carried out on unpaved road accesses regularly; all machinery and equipment should be maintained in good working order to ensure minimum emissions including carbon monoxide, oxides of Nitrogen and Sulphur, as well as suspended particulate matter; and drivers of construction vehicles and delivery trucks should be cautioned to drive slowly near the site to avoid creating dusty conditions. The drivers of construction vehicles and delivery trucks must be supervised so that they do not leave vehicles idling and limit their speeds so that dust levels are lowered.\n",
      "Relevant snippet: The drivers of construction vehicles and delivery trucks must be supervised so that they do not leave vehicles idling and limit their speeds so that dust levels are lowered.\n",
      "Distance: 3.308435054597158\n",
      "\n",
      "\n",
      "Project ID: P154784\n",
      "Project title: Kenya - Climate Smart Agriculture Project : Environmental Assessment (Vol. 7) : Environmental and Social Impact Assessment for Sertonje Borehole Sub-project, Mugurin Sub Location, Simotwe Location, Kisanana Ward, Mogotio Sub County, Baringo County\n",
      "Project abstract: The development objective of the Climate Smart Agriculture Project for Kenya is to increase agricultural productivity and build resilience to climate change risks in the targeted smallholder farming and pastoral communities in Kenya, and in the event of an eligible crisis or emergency, to provide immediate and effective response. Suggested measures included sensitization of the community on livestock disease control and prevention and provision of extension, intensify disease and pest surveillance; rehabilitate through reinstatement and tree planting all sites that are being used for construction activities such as camps, materials site (borrow pits and quarries) sites for storage materials and any paths, tracks that may be established during the construction phase and the water management committee should take charge of ensuring sustainability of this; dust from excavations and earth moving vehicles as well as materials delivery; emissions such as smoke, hydrocarbons and nitrogenous gases among others from machinery exhausts; the stockpiles of earth generated during construction works should be suppressed by spraying water or water-based mixtures. Spraying should also be carried out on unpaved road accesses regularly; all machinery and equipment should be maintained in good working order to ensure minimum emissions including carbon monoxide, oxides of Nitrogen and Sulphur, as well as suspended particulate matter; and drivers of construction vehicles and delivery trucks should be cautioned to drive slowly near the site to avoid creating dusty conditions. The drivers of construction vehicles and delivery trucks must be supervised so that they do not leave vehicles idling and limit their speeds so that dust levels are lowered.\n",
      "Relevant snippet: The drivers of construction vehicles and delivery trucks must be supervised so that they do not leave vehicles idling and limit their speeds so that dust levels are lowered.\n",
      "Distance: 3.308433511946275\n",
      "\n",
      "\n"
     ]
    },
    {
     "name": "stderr",
     "output_type": "stream",
     "text": [
      "Traceback (most recent call last):\n",
      "  File \"/Users/brunosan/opt/miniconda3/envs/s2/lib/python3.11/site-packages/gradio/routes.py\", line 393, in run_predict\n",
      "    output = await app.get_blocks().process_api(\n",
      "             ^^^^^^^^^^^^^^^^^^^^^^^^^^^^^^^^^^^\n",
      "  File \"/Users/brunosan/opt/miniconda3/envs/s2/lib/python3.11/site-packages/gradio/blocks.py\", line 1069, in process_api\n",
      "    result = await self.call_function(\n",
      "             ^^^^^^^^^^^^^^^^^^^^^^^^^\n",
      "  File \"/Users/brunosan/opt/miniconda3/envs/s2/lib/python3.11/site-packages/gradio/blocks.py\", line 878, in call_function\n",
      "    prediction = await anyio.to_thread.run_sync(\n",
      "                 ^^^^^^^^^^^^^^^^^^^^^^^^^^^^^^^\n",
      "  File \"/Users/brunosan/opt/miniconda3/envs/s2/lib/python3.11/site-packages/anyio/to_thread.py\", line 31, in run_sync\n",
      "    return await get_asynclib().run_sync_in_worker_thread(\n",
      "           ^^^^^^^^^^^^^^^^^^^^^^^^^^^^^^^^^^^^^^^^^^^^^^^\n",
      "  File \"/Users/brunosan/opt/miniconda3/envs/s2/lib/python3.11/site-packages/anyio/_backends/_asyncio.py\", line 937, in run_sync_in_worker_thread\n",
      "    return await future\n",
      "           ^^^^^^^^^^^^\n",
      "  File \"/Users/brunosan/opt/miniconda3/envs/s2/lib/python3.11/site-packages/anyio/_backends/_asyncio.py\", line 867, in run\n",
      "    result = context.run(func, *args)\n",
      "             ^^^^^^^^^^^^^^^^^^^^^^^^\n",
      "  File \"/var/folders/rd/qchdxdks2gndd92vg45vq5p00000gn/T/ipykernel_8915/3396163770.py\", line 16, in search_html\n",
      "    for project_id, chunk, distance in results:\n",
      "                                       ^^^^^^^\n",
      "NameError: name 'results' is not defined\n"
     ]
    }
   ],
   "source": [
    "import gradio as gr\n",
    "import psycopg2\n",
    "import json\n",
    "import numpy as np\n",
    "from annoy import AnnoyIndex\n",
    "from sentence_transformers import SentenceTransformer\n",
    "\n",
    "#local import \n",
    "from search import search\n",
    "\n",
    "\n",
    "def search_html(query):\n",
    "    results = search(query,model, db_config)\n",
    "    # Format the results as HTML-formatted text\n",
    "    html_output = \"\"\n",
    "    for project_id, chunk, distance in results:\n",
    "        project = next((p for p in projects if p[\"ids\"] == [project_id]), None)\n",
    "        html_output += f\"<h3>Project ID: {project_id}</h3>\"\n",
    "        html_output += f\"<h4>Project title: {project['title']}</h4>\"\n",
    "        html_output += f\"<p><b>Project abstract:</b> {project['abstract']}</p>\"\n",
    "        html_output += f\"<p><b>Relevant snippet:</b> {chunk}</p>\"\n",
    "        html_output += f\"<p><b>Distance:</b> {distance}</p>\"\n",
    "        html_output += \"<hr>\"\n",
    "    return html_output\n",
    "\n",
    "\n",
    "number_of_results = 5\n",
    "\n",
    "# Database configuration\n",
    "db_config = {\n",
    "    'dbname': 'wb_s2_embeddings',\n",
    "    'user': 's2',\n",
    "    'password': 'wb@s2',\n",
    "    'host': 'localhost',\n",
    "    'port': 5432\n",
    "}\n",
    "\n",
    "model = SentenceTransformer('sentence-transformers/paraphrase-mpnet-base-v2')\n",
    "\n",
    "# Load the projects\n",
    "with open(\"digital_agriculture_projects.json\", \"r\") as f:\n",
    "    projects = json.load(f)\n",
    "\n",
    "# Define Gradio input and output interfaces\n",
    "input_interface = gr.inputs.Textbox(lines=3, label=\"Enter your query\")\n",
    "output_interface = gr.outputs.HTML(label=\"Search Results\")\n",
    "\n",
    "# Create the Gradio interface\n",
    "iface = gr.Interface(\n",
    "    fn=search_html,\n",
    "    inputs=input_interface,\n",
    "    outputs=output_interface,\n",
    "    title=\"Project Search\",\n",
    "    description=\"Search for relevant projects using natural language queries.\",\n",
    ")\n",
    "\n",
    "# Launch the Gradio interface\n",
    "iface.launch()\n"
   ]
  },
  {
   "cell_type": "code",
   "execution_count": null,
   "metadata": {},
   "outputs": [],
   "source": []
  }
 ],
 "metadata": {
  "kernelspec": {
   "display_name": "s2",
   "language": "python",
   "name": "python3"
  },
  "language_info": {
   "codemirror_mode": {
    "name": "ipython",
    "version": 3
   },
   "file_extension": ".py",
   "mimetype": "text/x-python",
   "name": "python",
   "nbconvert_exporter": "python",
   "pygments_lexer": "ipython3",
   "version": "3.11.0"
  },
  "orig_nbformat": 4
 },
 "nbformat": 4,
 "nbformat_minor": 2
}
