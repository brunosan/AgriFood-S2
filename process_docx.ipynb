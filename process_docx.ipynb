{
 "cells": [
  {
   "cell_type": "code",
   "execution_count": 1,
   "metadata": {},
   "outputs": [],
   "source": [
    "from docx import Document\n",
    "from pathlib import Path\n",
    "import json\n",
    "\n",
    "# Take a .docx and return an array of strings, one page per item on the array\n",
    "# This is a specific function for a document that has a use case per page\n",
    "\n",
    "def read_docx(file_path):\n",
    "    doc = Document(file_path)\n",
    "    full_text = '\\n'.join([p.text for p in doc.paragraphs])\n",
    "    use_cases = full_text.split('\\n\\n\\n') # split the text into use cases\n",
    "    use_cases = [use_case.strip() for use_case in use_cases] # remove leading and trailing spaces\n",
    "    use_cases = [use_case for use_case in use_cases if use_case != '']     #remove empty use cases\n",
    "    #use_cases = [f'Title: {use_case}' for use_case in use_cases] #Add title to use case\n",
    "    return [use_case for use_case in use_cases if use_case != '']\n",
    "\n",
    "file_path = Path('data/docs/Use_Case_Catalogue.docx')\n",
    "pages_text = read_docx(file_path)\n",
    "\n",
    "#for i, page_text in enumerate(pages_text, 1):\n",
    "#    print(f'Page {i} Text:\\n{page_text}\\n')\n",
    "\n",
    "#save into json\n",
    "with open(\"data/digital_agriculture_use_cases.json\", \"w\") as file:\n",
    "        json.dump(pages_text, file, indent=4)"
   ]
  },
  {
   "cell_type": "code",
   "execution_count": null,
   "metadata": {},
   "outputs": [],
   "source": []
  }
 ],
 "metadata": {
  "kernelspec": {
   "display_name": "s2",
   "language": "python",
   "name": "python3"
  },
  "language_info": {
   "codemirror_mode": {
    "name": "ipython",
    "version": 3
   },
   "file_extension": ".py",
   "mimetype": "text/x-python",
   "name": "python",
   "nbconvert_exporter": "python",
   "pygments_lexer": "ipython3",
   "version": "3.11.0"
  },
  "orig_nbformat": 4
 },
 "nbformat": 4,
 "nbformat_minor": 2
}
