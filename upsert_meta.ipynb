{
 "cells": [
  {
   "cell_type": "code",
   "execution_count": null,
   "metadata": {},
   "outputs": [],
   "source": [
    "import os\n",
    "import json\n",
    "from dotenv import load_dotenv\n",
    "from supabase import create_client\n",
    "\n",
    "load_dotenv()\n",
    "\n",
    "# Supabase credentials\n",
    "SUPABASE_URL = os.getenv(\"SUPABASE_URL\")\n",
    "SUPABASE_KEY = os.getenv(\"SUPABASE_KEY\")\n",
    "SUPABASE_DB = os.getenv(\"SUPABASE_DB\")\n",
    "\n",
    "# Connect to Supabase\n",
    "client = create_client(SUPABASE_URL, SUPABASE_KEY)\n",
    "\n",
    "# Read JSON array from file\n",
    "with open(\"digital_agriculture_projects.json\", \"r\") as f:\n",
    "    data = json.load(f)\n",
    "\n",
    "# Upsert data into \"projects\" table\n",
    "i=0\n",
    "for p in data:\n",
    "    res = client.table(\"projects\").upsert({\n",
    "        \"project_id\": \",\".join(p[\"ids\"]),\n",
    "        \"title\": p[\"title\"],\n",
    "        \"url\": p[\"url\"],\n",
    "        \"txturl\": p[\"txturl\"],\n",
    "        \"date\": p[\"date\"],\n",
    "        \"keywords\": p[\"keywords\"],\n",
    "        \"abstract\": p[\"abstract\"],\n",
    "        \"authors\": p[\"authors\"]\n",
    "    }).execute()\n",
    "    print(f\"{i} of {len(p)}\",end=\"\")\n",
    "\n",
    "# Create mapping between project_id and title\n",
    "mapping = {}\n",
    "res = client.table(\"projects\").select(\"project_id, title\").execute()\n",
    "if res.get(\"error\"):\n",
    "    print(f\"Failed to fetch projects: {res['error']}\",end=\"\")\n",
    "else:\n",
    "    for p in res[\"data\"]:\n",
    "        mapping[p[\"project_id\"]] = p[\"title\"]\n",
    "i+=1\n",
    "\n",
    "print(mapping)\n"
   ]
  }
 ],
 "metadata": {
  "kernelspec": {
   "display_name": "s2",
   "language": "python",
   "name": "python3"
  },
  "language_info": {
   "codemirror_mode": {
    "name": "ipython",
    "version": 3
   },
   "file_extension": ".py",
   "mimetype": "text/x-python",
   "name": "python",
   "nbconvert_exporter": "python",
   "pygments_lexer": "ipython3",
   "version": "3.11.0"
  },
  "orig_nbformat": 4
 },
 "nbformat": 4,
 "nbformat_minor": 2
}
