{
 "cells": [
  {
   "cell_type": "code",
   "execution_count": 3,
   "metadata": {},
   "outputs": [
    {
     "name": "stdout",
     "output_type": "stream",
     "text": [
      "Processing document 388 of 437\r"
     ]
    }
   ],
   "source": [
    "#import openai\n",
    "#import requests\n",
    "import numpy as np\n",
    "from sentence_transformers import SentenceTransformer\n",
    "import json\n",
    "import concurrent.futures\n",
    "from functools import partial\n",
    "\n",
    "\n",
    "# Set up the Sentence Transformer model for embeddings\n",
    "model = SentenceTransformer('paraphrase-distilroberta-base-v1')\n",
    "\n",
    "\n",
    "with open(\"digital_agriculture_projects.json\", \"r\") as f:\n",
    "    projects = json.load(f)\n",
    "\n",
    "# Function to generate embeddings for a document\n",
    "def generate_embeddings(doc, model):\n",
    "    doc[\"full_text\"] = doc[\"title\"] + \";\" + doc[\"keywords\"] + \";\" + doc[\"abstract\"]\n",
    "    embeddings = model.encode(doc[\"full_text\"])\n",
    "    return embeddings\n",
    "\n",
    "# Function to process documents in parallel using multithreading\n",
    "def process_documents(projects, model):\n",
    "    with concurrent.futures.ThreadPoolExecutor() as executor:\n",
    "        # Partially apply the model to the generate_embeddings function\n",
    "        generate_embeddings_partial = partial(generate_embeddings, model=model)\n",
    "\n",
    "        # Process documents in parallel\n",
    "        for i, embeddings in enumerate(executor.map(generate_embeddings_partial, projects)):\n",
    "            projects[i][\"embeddings\"] = embeddings\n",
    "            print(f\"Processing document {i + 1} of {len(projects)}\", end=\"\\r\")\n",
    "\n",
    "    return projects\n",
    "\n",
    "projects_with_embeddings = process_documents(projects, model)\n",
    "\n",
    "\n",
    "#Save the documents to a file\n",
    "np.save(\"documents_with_embeddings.npy\", projects_with_embeddings)"
   ]
  },
  {
   "cell_type": "code",
   "execution_count": null,
   "metadata": {},
   "outputs": [],
   "source": []
  }
 ],
 "metadata": {
  "kernelspec": {
   "display_name": "base",
   "language": "python",
   "name": "python3"
  },
  "language_info": {
   "codemirror_mode": {
    "name": "ipython",
    "version": 3
   },
   "file_extension": ".py",
   "mimetype": "text/x-python",
   "name": "python",
   "nbconvert_exporter": "python",
   "pygments_lexer": "ipython3",
   "version": "3.9.15"
  },
  "orig_nbformat": 4
 },
 "nbformat": 4,
 "nbformat_minor": 2
}
